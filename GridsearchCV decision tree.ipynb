{
 "cells": [
  {
   "cell_type": "code",
   "execution_count": 15,
   "metadata": {},
   "outputs": [
    {
     "name": "stderr",
     "output_type": "stream",
     "text": [
      "C:\\Users\\aknob\\Anaconda3\\lib\\site-packages\\IPython\\core\\interactiveshell.py:3058: DtypeWarning: Columns (1,223,253,303,506) have mixed types. Specify dtype option on import or set low_memory=False.\n",
      "  interactivity=interactivity, compiler=compiler, result=result)\n"
     ]
    },
    {
     "name": "stdout",
     "output_type": "stream",
     "text": [
      "[[27 46 38 18  8  4]\n",
      " [39 97 98 53 12  2]\n",
      " [35 89 77 39  8  2]\n",
      " [19 36 33 10  3  2]\n",
      " [ 4 13 10  5  1  1]\n",
      " [ 1  1  0  0  0  0]]\n",
      "0.25511432009626955\n",
      "Mean Absolute Error: 1.1961492178098676\n",
      "Mean Squared Error: 2.4332129963898916\n",
      "Root Mean Squared Error: 1.5598759554496286\n",
      "              precision    recall  f1-score   support\n",
      "\n",
      "           0       0.22      0.19      0.20       141\n",
      "           1       0.34      0.32      0.33       301\n",
      "           2       0.30      0.31      0.30       250\n",
      "           3       0.08      0.10      0.09       103\n",
      "           4       0.03      0.03      0.03        34\n",
      "           5       0.00      0.00      0.00         2\n",
      "\n",
      "    accuracy                           0.26       831\n",
      "   macro avg       0.16      0.16      0.16       831\n",
      "weighted avg       0.26      0.26      0.26       831\n",
      "\n"
     ]
    }
   ],
   "source": [
    "## logistic regression for 2012\n",
    "import os\n",
    "os.chdir('c:/Users\\\\aknob\\Desktop\\Data')\n",
    "\n",
    "import pandas as pd\n",
    "import numpy as np\n",
    "from sklearn import preprocessing\n",
    "import matplotlib.pyplot as plt \n",
    "from sklearn.model_selection import train_test_split\n",
    "from sklearn.linear_model import LogisticRegression \n",
    "from sklearn.tree import DecisionTreeClassifier # Import Decision Tree Classifier\n",
    "from sklearn.preprocessing import LabelEncoder\n",
    "from sklearn.model_selection import train_test_split\n",
    "from sklearn.model_selection import GridSearchCV\n",
    "from sklearn import *\n",
    "\n",
    "\n",
    "#load dataset\n",
    "silc = pd.read_csv('thesis_data_2012.csv')\n",
    "\n",
    "silcSubSet = silc.dropna(axis=1, thresh = 4000) # drop columns that have > 4000 NaN\n",
    "silcSubSet = silcSubSet.dropna(axis=0, thresh = 120) # drop rows that have >120   NaN\n",
    "\n",
    "silcSubSet = silcSubSet.drop(['HB020', 'PB020', 'RB020', 'DB020', \"PB220A\", 'PL111'], axis = 1) # all values are NL, as it is dutch data, and thus not influenctal\n",
    "## scores with 020 are country, pb220a is country of birth, PL111 is working sector categorized by letters\n",
    "\n",
    "## imputate the NaN values that are left by adding the mean of that column \n",
    "silcSubSet = silcSubSet.fillna(silcSubSet.mean(), inplace=False)\n",
    "\n",
    "## some categories (e.g. continuous) of variables are changed and now usable by sk learn\n",
    "silcSubSet = silcSubSet.apply(LabelEncoder().fit_transform) \n",
    "\n",
    "# assign variables\n",
    "y = silcSubSet[['PH010']]\n",
    "x = silcSubSet.drop(y, axis = 1)\n",
    "\n",
    "# split X and y into training and testing sets\n",
    "x_train,x_test,y_train,y_test=train_test_split(x,y,test_size=0.2,random_state=1) ##80% used for training 20% for test\n",
    "\n",
    "# Create an instance of Logistic Regression Classifier and fit the data.\n",
    "param_grid = {'criterion':['gini', 'entropy']}\n",
    "clf = GridSearchCV(DecisionTreeClassifier(class_weight = 'balanced'), param_grid, cv= 5)\n",
    "clf.fit(x_train, y_train)\n",
    "clf.predict(x_test)\n",
    "y_pred = clf.predict(x_test)\n",
    "\n",
    "# test score\n",
    "score = clf.score(x_test, y_test)\n",
    "print(score)\n",
    "\n",
    "#predict probability\n",
    "#print(lr.predict_proba(x_test))\n",
    "\n",
    "from sklearn import metrics\n",
    "print('Mean Absolute Error:', metrics.mean_absolute_error(y_test, y_pred))\n",
    "print('Mean Squared Error:', metrics.mean_squared_error(y_test, y_pred))\n",
    "print('Root Mean Squared Error:', np.sqrt(metrics.mean_squared_error(y_test, y_pred)))\n",
    "\n",
    "from sklearn.metrics import classification_report\n",
    "print(classification_report(y_test, y_pred))\n",
    "\n",
    "\n",
    "\n"
   ]
  }
 ],
 "metadata": {
  "kernelspec": {
   "display_name": "Python 3",
   "language": "python",
   "name": "python3"
  },
  "language_info": {
   "codemirror_mode": {
    "name": "ipython",
    "version": 3
   },
   "file_extension": ".py",
   "mimetype": "text/x-python",
   "name": "python",
   "nbconvert_exporter": "python",
   "pygments_lexer": "ipython3",
   "version": "3.7.4"
  }
 },
 "nbformat": 4,
 "nbformat_minor": 2
}
